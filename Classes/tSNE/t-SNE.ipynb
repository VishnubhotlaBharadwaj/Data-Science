{
 "cells": [
  {
   "cell_type": "code",
   "execution_count": 4,
   "id": "19a72819",
   "metadata": {},
   "outputs": [
    {
     "name": "stdout",
     "output_type": "stream",
     "text": [
      "Collecting bioinfokit==2.0.4\n",
      "  Downloading bioinfokit-2.0.4.tar.gz (82 kB)\n",
      "Requirement already satisfied: pandas in c:\\users\\bharadwaj\\anaconda3-updated\\lib\\site-packages (from bioinfokit==2.0.4) (1.2.4)\n",
      "Requirement already satisfied: numpy in c:\\users\\bharadwaj\\anaconda3-updated\\lib\\site-packages (from bioinfokit==2.0.4) (1.20.1)\n",
      "Requirement already satisfied: matplotlib in c:\\users\\bharadwaj\\anaconda3-updated\\lib\\site-packages (from bioinfokit==2.0.4) (3.3.4)\n",
      "Requirement already satisfied: scipy in c:\\users\\bharadwaj\\anaconda3-updated\\lib\\site-packages (from bioinfokit==2.0.4) (1.6.2)\n",
      "Requirement already satisfied: scikit-learn in c:\\users\\bharadwaj\\anaconda3-updated\\lib\\site-packages (from bioinfokit==2.0.4) (0.24.1)\n",
      "Requirement already satisfied: seaborn in c:\\users\\bharadwaj\\anaconda3-updated\\lib\\site-packages (from bioinfokit==2.0.4) (0.11.1)\n",
      "Collecting matplotlib-venn\n",
      "  Downloading matplotlib-venn-0.11.6.tar.gz (29 kB)\n",
      "Collecting tabulate\n",
      "  Downloading tabulate-0.8.9-py3-none-any.whl (25 kB)\n",
      "Requirement already satisfied: statsmodels in c:\\users\\bharadwaj\\anaconda3-updated\\lib\\site-packages (from bioinfokit==2.0.4) (0.12.2)\n",
      "Collecting textwrap3\n",
      "  Downloading textwrap3-0.9.2-py2.py3-none-any.whl (12 kB)\n",
      "Collecting adjustText\n",
      "  Downloading adjustText-0.7.3.tar.gz (7.5 kB)\n",
      "Requirement already satisfied: cycler>=0.10 in c:\\users\\bharadwaj\\anaconda3-updated\\lib\\site-packages (from matplotlib->bioinfokit==2.0.4) (0.10.0)\n",
      "Requirement already satisfied: pyparsing!=2.0.4,!=2.1.2,!=2.1.6,>=2.0.3 in c:\\users\\bharadwaj\\anaconda3-updated\\lib\\site-packages (from matplotlib->bioinfokit==2.0.4) (2.4.7)\n",
      "Requirement already satisfied: kiwisolver>=1.0.1 in c:\\users\\bharadwaj\\anaconda3-updated\\lib\\site-packages (from matplotlib->bioinfokit==2.0.4) (1.3.1)\n",
      "Requirement already satisfied: python-dateutil>=2.1 in c:\\users\\bharadwaj\\anaconda3-updated\\lib\\site-packages (from matplotlib->bioinfokit==2.0.4) (2.8.1)\n",
      "Requirement already satisfied: pillow>=6.2.0 in c:\\users\\bharadwaj\\anaconda3-updated\\lib\\site-packages (from matplotlib->bioinfokit==2.0.4) (8.2.0)\n",
      "Requirement already satisfied: six in c:\\users\\bharadwaj\\anaconda3-updated\\lib\\site-packages (from cycler>=0.10->matplotlib->bioinfokit==2.0.4) (1.15.0)\n",
      "Requirement already satisfied: pytz>=2017.3 in c:\\users\\bharadwaj\\anaconda3-updated\\lib\\site-packages (from pandas->bioinfokit==2.0.4) (2021.1)\n",
      "Requirement already satisfied: joblib>=0.11 in c:\\users\\bharadwaj\\anaconda3-updated\\lib\\site-packages (from scikit-learn->bioinfokit==2.0.4) (1.0.1)\n",
      "Requirement already satisfied: threadpoolctl>=2.0.0 in c:\\users\\bharadwaj\\anaconda3-updated\\lib\\site-packages (from scikit-learn->bioinfokit==2.0.4) (2.1.0)\n",
      "Requirement already satisfied: patsy>=0.5 in c:\\users\\bharadwaj\\anaconda3-updated\\lib\\site-packages (from statsmodels->bioinfokit==2.0.4) (0.5.1)\n",
      "Building wheels for collected packages: bioinfokit, adjustText, matplotlib-venn\n",
      "  Building wheel for bioinfokit (setup.py): started\n",
      "  Building wheel for bioinfokit (setup.py): finished with status 'done'\n",
      "  Created wheel for bioinfokit: filename=bioinfokit-2.0.4-py3-none-any.whl size=56028 sha256=a95897c123e45ebec2462541858fc344d0835d8d026c063c9eff048da6e1aa7a\n",
      "  Stored in directory: c:\\users\\bharadwaj\\appdata\\local\\pip\\cache\\wheels\\1b\\d6\\92\\20e4b1479eec88e4965412e8d97ad3b750d10d7cb7b0975da3\n",
      "  Building wheel for adjustText (setup.py): started\n",
      "  Building wheel for adjustText (setup.py): finished with status 'done'\n",
      "  Created wheel for adjustText: filename=adjustText-0.7.3-py3-none-any.whl size=7098 sha256=4495f4133ae19139927b299a3858a0e78f584bb5eea219f1131db2ec0973bf36\n",
      "  Stored in directory: c:\\users\\bharadwaj\\appdata\\local\\pip\\cache\\wheels\\06\\b2\\e0\\b239bd2c0ff89b98c4f0c86a63e7059f38a8dfaf6df2641c63\n",
      "  Building wheel for matplotlib-venn (setup.py): started\n",
      "  Building wheel for matplotlib-venn (setup.py): finished with status 'done'\n",
      "  Created wheel for matplotlib-venn: filename=matplotlib_venn-0.11.6-py3-none-any.whl size=32062 sha256=db7f53ac31119837cb9a36c512a0f67df77be535a74ae8b8cb0c23aa7ae42887\n",
      "  Stored in directory: c:\\users\\bharadwaj\\appdata\\local\\pip\\cache\\wheels\\82\\e4\\64\\dd790d424818bc2f59c11471a1eee5dc8cfcd3f8ee8c4812fa\n",
      "Successfully built bioinfokit adjustText matplotlib-venn\n",
      "Installing collected packages: textwrap3, tabulate, matplotlib-venn, adjustText, bioinfokit\n",
      "Successfully installed adjustText-0.7.3 bioinfokit-2.0.4 matplotlib-venn-0.11.6 tabulate-0.8.9 textwrap3-0.9.2\n",
      "Note: you may need to restart the kernel to use updated packages.\n"
     ]
    }
   ],
   "source": [
    "pip install bioinfokit==2.0.4"
   ]
  },
  {
   "cell_type": "code",
   "execution_count": 5,
   "id": "01cf31e6",
   "metadata": {},
   "outputs": [],
   "source": [
    "from pandas import read_csv\n",
    "import pandas as pd\n",
    "\n",
    "from sklearn.manifold import TSNE\n",
    "import bioinfokit"
   ]
  },
  {
   "cell_type": "code",
   "execution_count": 6,
   "id": "51c8453f",
   "metadata": {},
   "outputs": [],
   "source": [
    "# load data\n",
    "filename = 'TSNE_data.csv'\n",
    "dataframe = pd.read_csv(filename)"
   ]
  },
  {
   "cell_type": "code",
   "execution_count": 7,
   "id": "c9f3008a",
   "metadata": {},
   "outputs": [],
   "source": [
    "# Split-out validation dataset\n",
    "array = dataframe.values\n",
    "# separate array into input and output components\n",
    "X = array[:,1:]\n",
    "Y = array[:,0]"
   ]
  },
  {
   "cell_type": "code",
   "execution_count": 8,
   "id": "8a9779c9",
   "metadata": {},
   "outputs": [],
   "source": [
    "#TSNE visualization\n",
    "from bioinfokit.visuz import cluster\n",
    "\n",
    "data_tsne = TSNE(n_components=2).fit_transform(X)\n",
    "cluster.tsneplot(score=data_tsne)"
   ]
  },
  {
   "cell_type": "code",
   "execution_count": 9,
   "id": "d9cc12b7",
   "metadata": {},
   "outputs": [],
   "source": [
    "# get a list of categories\n",
    "color_class = dataframe['diagnosis'].to_numpy()\n",
    "cluster.tsneplot(score=data_tsne, colorlist=color_class, legendpos='upper right',legendanchor=(1.15, 1))\n",
    "\n",
    "#Plot will be stored in the default directory"
   ]
  },
  {
   "cell_type": "code",
   "execution_count": 10,
   "id": "1fbe1b98",
   "metadata": {},
   "outputs": [
    {
     "data": {
      "text/plain": [
       "array([[ 24.580153 ,  19.839432 ],\n",
       "       [ 27.145668 ,  19.214586 ],\n",
       "       [ 27.095509 ,  14.048475 ],\n",
       "       ...,\n",
       "       [ 21.04456  ,  -3.3129897],\n",
       "       [ 27.052439 ,  16.816261 ],\n",
       "       [-11.567093 ,  30.645298 ]], dtype=float32)"
      ]
     },
     "execution_count": 10,
     "metadata": {},
     "output_type": "execute_result"
    }
   ],
   "source": [
    "data_tsne"
   ]
  },
  {
   "cell_type": "code",
   "execution_count": null,
   "id": "099e8451",
   "metadata": {},
   "outputs": [],
   "source": []
  }
 ],
 "metadata": {
  "kernelspec": {
   "display_name": "Python 3",
   "language": "python",
   "name": "python3"
  },
  "language_info": {
   "codemirror_mode": {
    "name": "ipython",
    "version": 3
   },
   "file_extension": ".py",
   "mimetype": "text/x-python",
   "name": "python",
   "nbconvert_exporter": "python",
   "pygments_lexer": "ipython3",
   "version": "3.8.8"
  }
 },
 "nbformat": 4,
 "nbformat_minor": 5
}
